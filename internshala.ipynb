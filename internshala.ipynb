{
 "cells": [
  {
   "cell_type": "code",
   "execution_count": 28,
   "id": "5e8222a9",
   "metadata": {},
   "outputs": [],
   "source": [
    "from selenium import webdriver\n",
    "from time import sleep\n",
    "from selenium.webdriver.common.by import By\n",
    "from selenium.webdriver.common.keys import Keys\n",
    "import pandas as pd"
   ]
  },
  {
   "cell_type": "code",
   "execution_count": 2,
   "id": "693c2af9",
   "metadata": {},
   "outputs": [],
   "source": [
    "link=[]\n",
    "for i in range(1,21):\n",
    "    link.append(\"https://www.amazon.in/s?k=bags&crid=2M096C61O4MLT&qid=1653308124&sprefix=ba%2Caps%2C283&ref=sr_pg_{}\".format(i))"
   ]
  },
  {
   "cell_type": "code",
   "execution_count": 3,
   "id": "98345970",
   "metadata": {},
   "outputs": [],
   "source": [
    "container=[]\n",
    "for i in link:\n",
    "    driver= webdriver.Chrome()\n",
    "    driver.get(i)\n",
    "    \n",
    "    l1=driver.find_elements(By.XPATH,'//a[@class=\"a-link-normal s-underline-text s-underline-link-text s-link-style a-text-normal\"]')\n",
    "    \n",
    "    for k in l1:\n",
    "        container.append(k.get_attribute('href'))"
   ]
  },
  {
   "cell_type": "code",
   "execution_count": 4,
   "id": "df722ba7",
   "metadata": {},
   "outputs": [],
   "source": [
    "\n",
    "name=[]\n",
    "for i in link:\n",
    "    driver= webdriver.Chrome()\n",
    "    driver.get(i)\n",
    "    \n",
    "    l1=driver.find_elements(By.XPATH,'//a[@class=\"a-link-normal s-underline-text s-underline-link-text s-link-style a-text-normal\"]/span')\n",
    "    \n",
    "    for k in l1:\n",
    "        name.append(k.text)"
   ]
  },
  {
   "cell_type": "code",
   "execution_count": 5,
   "id": "64b8d31d",
   "metadata": {},
   "outputs": [],
   "source": [
    "\n",
    "price=[]\n",
    "for i in link:\n",
    "    driver= webdriver.Chrome()\n",
    "    driver.get(i)\n",
    "    \n",
    "    l1=driver.find_elements(By.XPATH,'//span[@class=\"a-price\"]')\n",
    "    \n",
    "    for k in l1:\n",
    "        price.append(k.text)\n",
    "driver.close()"
   ]
  },
  {
   "cell_type": "code",
   "execution_count": 6,
   "id": "e0337810",
   "metadata": {},
   "outputs": [],
   "source": [
    "rating=[]\n",
    "for i in link:\n",
    "    driver= webdriver.Chrome()\n",
    "    driver.get(i)\n",
    "    \n",
    "    l1=driver.find_elements(By.XPATH,'//span[@class=\"a-size-base\"]')\n",
    "    \n",
    "    for k in l1:\n",
    "        rating.append(k.text)\n",
    "driver.close()"
   ]
  },
  {
   "cell_type": "code",
   "execution_count": 7,
   "id": "44653eb7",
   "metadata": {},
   "outputs": [],
   "source": [
    "num_rating=[]\n",
    "for i in link:\n",
    "    driver= webdriver.Chrome()\n",
    "    driver.get(i)\n",
    "    \n",
    "    l1=driver.find_elements(By.XPATH,'//span[@class=\"a-size-base s-underline-text\"]')\n",
    "    \n",
    "    for k in l1:\n",
    "        num_rating.append(k.text)\n",
    "driver.close()"
   ]
  },
  {
   "cell_type": "code",
   "execution_count": 8,
   "id": "2fb627c2",
   "metadata": {},
   "outputs": [
    {
     "data": {
      "text/plain": [
       "'uppercase Matrix Professional Anti-theft Laptop Backpack (15.6 Inch) 3x more water resistant sustainable bags with rain proof zippers for Men, Women, Boys and Girls, 750 Days warranty'"
      ]
     },
     "execution_count": 8,
     "metadata": {},
     "output_type": "execute_result"
    }
   ],
   "source": [
    "name[0]"
   ]
  },
  {
   "cell_type": "code",
   "execution_count": 9,
   "id": "f8d64594",
   "metadata": {},
   "outputs": [
    {
     "name": "stdout",
     "output_type": "stream",
     "text": [
      "https://www.amazon.in/sspa/click?ie=UTF8&spc=MTo4OTIyNjEyMDkzNTE2ODg3OjE2Nzk1MDgwNTU6c3BfYXRmOjIwMTEyMDk2MzE3NTk4OjowOjo&url=%2Fuppercase-Professional-Anti-theft-resistant-sustainable%2Fdp%2FB0BSH4H4DB%2Fref%3Dsr_1_1_sspa%3Fcrid%3D2M096C61O4MLT%26keywords%3Dbags%26qid%3D1679508055%26sprefix%3Dba%252Caps%252C283%26sr%3D8-1-spons%26sp_csd%3Dd2lkZ2V0TmFtZT1zcF9hdGY%26psc%3D1\n"
     ]
    }
   ],
   "source": [
    "print(container[0])"
   ]
  },
  {
   "cell_type": "code",
   "execution_count": 10,
   "id": "b005f9d5",
   "metadata": {},
   "outputs": [
    {
     "data": {
      "text/plain": [
       "'₹2,300₹2,300'"
      ]
     },
     "execution_count": 10,
     "metadata": {},
     "output_type": "execute_result"
    }
   ],
   "source": [
    "price[0]"
   ]
  },
  {
   "cell_type": "code",
   "execution_count": 11,
   "id": "1d338ffb",
   "metadata": {},
   "outputs": [
    {
     "data": {
      "text/plain": [
       "'4.0'"
      ]
     },
     "execution_count": 11,
     "metadata": {},
     "output_type": "execute_result"
    }
   ],
   "source": [
    "rating[0]"
   ]
  },
  {
   "cell_type": "code",
   "execution_count": 12,
   "id": "bcc1da1c",
   "metadata": {},
   "outputs": [
    {
     "data": {
      "text/plain": [
       "'(13)'"
      ]
     },
     "execution_count": 12,
     "metadata": {},
     "output_type": "execute_result"
    }
   ],
   "source": [
    "num_rating[0]"
   ]
  },
  {
   "cell_type": "code",
   "execution_count": 14,
   "id": "04ad56b5",
   "metadata": {},
   "outputs": [],
   "source": [
    "des=[]\n",
    "for i in container:\n",
    "    \n",
    "    driver= webdriver.Chrome()\n",
    "    driver.get(i)\n",
    "    \n",
    "    try:\n",
    "        l1=driver.find_element(By.XPATH,'//div[@id=\"feature-bullets\"]')\n",
    "        des.append(l1.text)\n",
    "    except Exception as ex:\n",
    "        des.append(\" \") \n",
    "    \n",
    "    driver.close()\n",
    "    sleep(2)\n"
   ]
  },
  {
   "cell_type": "code",
   "execution_count": 26,
   "id": "a31675db",
   "metadata": {},
   "outputs": [],
   "source": [
    "pro_des=[]\n",
    "for i in container:\n",
    "    \n",
    "    driver= webdriver.Chrome()\n",
    "    driver.get(i)\n",
    "    \n",
    "    try:\n",
    "        l1=driver.find_element(By.XPATH,'//div[@id=\"productDescription\"]')\n",
    "        pro_des.append(l1.text)\n",
    "    except Exception as ex:\n",
    "        pro_des.append(\" \") \n",
    "    \n",
    "    driver.close()\n",
    "    sleep(2)\n",
    "    "
   ]
  },
  {
   "cell_type": "code",
   "execution_count": 21,
   "id": "4ff4a4cd",
   "metadata": {},
   "outputs": [],
   "source": [
    "asin=[]\n",
    "for i in container:\n",
    "    \n",
    "    driver= webdriver.Chrome()\n",
    "    driver.get(i)\n",
    "    \n",
    "    try:\n",
    "        l1=driver.find_element(By.XPATH,'//*[@id=\"detailBullets_feature_div\"]/ul/li[4]/span/span[2]')\n",
    "        asin.append(l1.text)\n",
    "    except Exception as ex:\n",
    "        asin.append(\" \") \n",
    "    \n",
    "    driver.close()\n",
    "    \n",
    "    sleep(2)"
   ]
  },
  {
   "cell_type": "code",
   "execution_count": 25,
   "id": "d583daa4",
   "metadata": {},
   "outputs": [],
   "source": [
    "man=[]\n",
    "for i in container:\n",
    "    \n",
    "    driver= webdriver.Chrome()\n",
    "    driver.get(i)\n",
    "    \n",
    "    try:\n",
    "        l1=driver.find_element(By.XPATH,'//*[@id=\"detailBullets_feature_div\"]/ul/li[8]/span/span[2]')\n",
    "        man.append(l1.text)\n",
    "    except Exception as ex:\n",
    "        man.append(\" \") \n",
    "    \n",
    "    driver.close()\n",
    "    sleep(2)\n",
    "    "
   ]
  },
  {
   "cell_type": "code",
   "execution_count": 19,
   "id": "e35d44b9",
   "metadata": {},
   "outputs": [
    {
     "data": {
      "text/plain": [
       "'Care Instructions: Wipe with Damp Cloth\\nHandcrafted with care and made up of premium quality robust material\\nPadded anti-theft laptop compartment fits up to 15.6\" Laptop and a tablet compartment; Zipper Pocket in front along with a slip In Pocket in front; Internal Organisers with a bottle holder on the side\\nWrinkle free bag and 3x more water resistant with Rainproof zippers; Trolley sleeve to securely place the bags on the luggage; Comfortable Padded shoulder straps\\nGRS certified for sustainability; The GRS (Global Recycled Standard) is intended for use with any product that contains at least 50% Recycled Material (License No. CMPY-158596); 750 days of international warranty'"
      ]
     },
     "execution_count": 19,
     "metadata": {},
     "output_type": "execute_result"
    }
   ],
   "source": [
    "des[0]"
   ]
  },
  {
   "cell_type": "code",
   "execution_count": 23,
   "id": "a09f9c5b",
   "metadata": {},
   "outputs": [
    {
     "data": {
      "text/plain": [
       "'B0BSH4H4DB'"
      ]
     },
     "execution_count": 23,
     "metadata": {},
     "output_type": "execute_result"
    }
   ],
   "source": [
    "asin[0]"
   ]
  },
  {
   "cell_type": "code",
   "execution_count": 34,
   "id": "b60aa3c2",
   "metadata": {},
   "outputs": [
    {
     "data": {
      "text/plain": [
       "'Acefour Accessories Pvt. Ltd., Acefour Accessories Pvt. Ltd. , Lodha Supremus Corp. Tower, Unit 1202,12th Floor,Saki Vihar road, Chandivali, Tunga Village, Opp. MTNL office, Andheri E, Mumbai -400072, Maharashtra, India'"
      ]
     },
     "execution_count": 34,
     "metadata": {},
     "output_type": "execute_result"
    }
   ],
   "source": [
    "man[0]"
   ]
  },
  {
   "cell_type": "code",
   "execution_count": 35,
   "id": "53488561",
   "metadata": {},
   "outputs": [
    {
     "data": {
      "text/plain": [
       "'Introducing the ultimate \"Matrix\" backpack for the modern, on-the-go professional. With a dedicated anti-theft laptop compartment (15.6\\'), you can rest easy knowing your valuable device is secure. The backpack also features a tablet sleeve, multiple organizers, and a quick-access pocket for all your essentials. Made with premium, sustainable materials, this backpack is not only functional but also environmentally friendly. Whether you\\'re heading to work or traveling the world, this backpack has got you covered.'"
      ]
     },
     "execution_count": 35,
     "metadata": {},
     "output_type": "execute_result"
    }
   ],
   "source": [
    "pro_des[0]"
   ]
  },
  {
   "cell_type": "code",
   "execution_count": 32,
   "id": "95e41410",
   "metadata": {},
   "outputs": [],
   "source": [
    "Data= {\n",
    "    'Name':name,\n",
    "    'URL' :container,\n",
    "    'Price':price,\n",
    "    'Rating':rating,\n",
    "    'Number Rating':num_rating,\n",
    "    'Description':des,\n",
    "    'ASIN':asin,\n",
    "    'Manufracturer':man,\n",
    "    'Product Des ':pro_des\n",
    "          }\n",
    "df = pd.DataFrame(Data)\n",
    "print(df)"
   ]
  }
 ],
 "metadata": {
  "kernelspec": {
   "display_name": "Python 3 (ipykernel)",
   "language": "python",
   "name": "python3"
  },
  "language_info": {
   "codemirror_mode": {
    "name": "ipython",
    "version": 3
   },
   "file_extension": ".py",
   "mimetype": "text/x-python",
   "name": "python",
   "nbconvert_exporter": "python",
   "pygments_lexer": "ipython3",
   "version": "3.9.13"
  }
 },
 "nbformat": 4,
 "nbformat_minor": 5
}
